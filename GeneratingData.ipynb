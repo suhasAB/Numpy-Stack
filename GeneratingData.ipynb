{
  "nbformat": 4,
  "nbformat_minor": 0,
  "metadata": {
    "colab": {
      "name": "GeneratingData.ipynb",
      "provenance": [],
      "authorship_tag": "ABX9TyMI7aZZ4padR7uX14z8nzm2",
      "include_colab_link": true
    },
    "kernelspec": {
      "name": "python3",
      "display_name": "Python 3"
    },
    "language_info": {
      "name": "python"
    }
  },
  "cells": [
    {
      "cell_type": "markdown",
      "metadata": {
        "id": "view-in-github",
        "colab_type": "text"
      },
      "source": [
        "<a href=\"https://colab.research.google.com/github/suhasAB/Numpy-Stack/blob/main/GeneratingData.ipynb\" target=\"_parent\"><img src=\"https://colab.research.google.com/assets/colab-badge.svg\" alt=\"Open In Colab\"/></a>"
      ]
    },
    {
      "cell_type": "code",
      "metadata": {
        "id": "KGQy1xJleTYc"
      },
      "source": [
        "import numpy as np"
      ],
      "execution_count": 1,
      "outputs": []
    },
    {
      "cell_type": "code",
      "metadata": {
        "colab": {
          "base_uri": "https://localhost:8080/"
        },
        "id": "OmrvLhXjeYQo",
        "outputId": "0af22bc0-0952-46eb-c5f4-056c2fda0bb5"
      },
      "source": [
        "np.zeros((2,3))"
      ],
      "execution_count": 2,
      "outputs": [
        {
          "output_type": "execute_result",
          "data": {
            "text/plain": [
              "array([[0., 0., 0.],\n",
              "       [0., 0., 0.]])"
            ]
          },
          "metadata": {
            "tags": []
          },
          "execution_count": 2
        }
      ]
    },
    {
      "cell_type": "code",
      "metadata": {
        "colab": {
          "base_uri": "https://localhost:8080/"
        },
        "id": "4xc5TrwOes2U",
        "outputId": "26cd62b9-4764-4824-fcef-e14863604dad"
      },
      "source": [
        "np.ones((2,3))"
      ],
      "execution_count": 3,
      "outputs": [
        {
          "output_type": "execute_result",
          "data": {
            "text/plain": [
              "array([[1., 1., 1.],\n",
              "       [1., 1., 1.]])"
            ]
          },
          "metadata": {
            "tags": []
          },
          "execution_count": 3
        }
      ]
    },
    {
      "cell_type": "code",
      "metadata": {
        "colab": {
          "base_uri": "https://localhost:8080/"
        },
        "id": "ZJy2xkMyev_N",
        "outputId": "40fe632e-71e4-4efb-e5fb-e7ce5cca5007"
      },
      "source": [
        "10 * np.ones((2,3))"
      ],
      "execution_count": 4,
      "outputs": [
        {
          "output_type": "execute_result",
          "data": {
            "text/plain": [
              "array([[10., 10., 10.],\n",
              "       [10., 10., 10.]])"
            ]
          },
          "metadata": {
            "tags": []
          },
          "execution_count": 4
        }
      ]
    },
    {
      "cell_type": "code",
      "metadata": {
        "colab": {
          "base_uri": "https://localhost:8080/"
        },
        "id": "edxTh5EGe2Gk",
        "outputId": "2de35a45-50a5-4266-e627-f008982500a9"
      },
      "source": [
        "np.eye(3)"
      ],
      "execution_count": 5,
      "outputs": [
        {
          "output_type": "execute_result",
          "data": {
            "text/plain": [
              "array([[1., 0., 0.],\n",
              "       [0., 1., 0.],\n",
              "       [0., 0., 1.]])"
            ]
          },
          "metadata": {
            "tags": []
          },
          "execution_count": 5
        }
      ]
    },
    {
      "cell_type": "code",
      "metadata": {
        "colab": {
          "base_uri": "https://localhost:8080/"
        },
        "id": "zPA_ODT-e69N",
        "outputId": "a5863a35-559b-4931-c42f-8488de59412f"
      },
      "source": [
        "np.random.random()"
      ],
      "execution_count": 6,
      "outputs": [
        {
          "output_type": "execute_result",
          "data": {
            "text/plain": [
              "0.28915278995052596"
            ]
          },
          "metadata": {
            "tags": []
          },
          "execution_count": 6
        }
      ]
    },
    {
      "cell_type": "code",
      "metadata": {
        "colab": {
          "base_uri": "https://localhost:8080/"
        },
        "id": "AOm1f1zLfKYG",
        "outputId": "660ea699-9b32-4207-b0f7-5a525e12a471"
      },
      "source": [
        "np.random.random((2,3))"
      ],
      "execution_count": 7,
      "outputs": [
        {
          "output_type": "execute_result",
          "data": {
            "text/plain": [
              "array([[0.96941478, 0.06558679, 0.22124928],\n",
              "       [0.38473125, 0.1605154 , 0.74406433]])"
            ]
          },
          "metadata": {
            "tags": []
          },
          "execution_count": 7
        }
      ]
    },
    {
      "cell_type": "code",
      "metadata": {
        "colab": {
          "base_uri": "https://localhost:8080/"
        },
        "id": "SDHcML47fO11",
        "outputId": "119fc353-5c56-4938-d9b0-ebde361c6026"
      },
      "source": [
        "np.random.randn(2,3)"
      ],
      "execution_count": 8,
      "outputs": [
        {
          "output_type": "execute_result",
          "data": {
            "text/plain": [
              "array([[ 1.50266128, -1.51188633,  0.0028106 ],\n",
              "       [-1.05429952,  1.69630408, -0.44924841]])"
            ]
          },
          "metadata": {
            "tags": []
          },
          "execution_count": 8
        }
      ]
    },
    {
      "cell_type": "code",
      "metadata": {
        "id": "c3havwZjffq9"
      },
      "source": [
        "R=np.random.randn(10000)"
      ],
      "execution_count": 9,
      "outputs": []
    },
    {
      "cell_type": "code",
      "metadata": {
        "colab": {
          "base_uri": "https://localhost:8080/"
        },
        "id": "XSiDxVBMf09Z",
        "outputId": "e446429a-0fa4-4e72-92ee-037a00e0227b"
      },
      "source": [
        "np.mean(R)"
      ],
      "execution_count": 10,
      "outputs": [
        {
          "output_type": "execute_result",
          "data": {
            "text/plain": [
              "0.003502174653571005"
            ]
          },
          "metadata": {
            "tags": []
          },
          "execution_count": 10
        }
      ]
    },
    {
      "cell_type": "code",
      "metadata": {
        "colab": {
          "base_uri": "https://localhost:8080/"
        },
        "id": "3MrBYTjbf8yx",
        "outputId": "00a4dc3d-4c3e-42f8-ceb7-34a78198af8b"
      },
      "source": [
        "np.median(R)"
      ],
      "execution_count": 11,
      "outputs": [
        {
          "output_type": "execute_result",
          "data": {
            "text/plain": [
              "0.0008974467477183714"
            ]
          },
          "metadata": {
            "tags": []
          },
          "execution_count": 11
        }
      ]
    },
    {
      "cell_type": "code",
      "metadata": {
        "colab": {
          "base_uri": "https://localhost:8080/"
        },
        "id": "rmFpNC6IgI05",
        "outputId": "9646c040-42c6-4461-a90a-2b1cc87577e3"
      },
      "source": [
        "R.mean()"
      ],
      "execution_count": 12,
      "outputs": [
        {
          "output_type": "execute_result",
          "data": {
            "text/plain": [
              "0.003502174653571005"
            ]
          },
          "metadata": {
            "tags": []
          },
          "execution_count": 12
        }
      ]
    },
    {
      "cell_type": "code",
      "metadata": {
        "colab": {
          "base_uri": "https://localhost:8080/"
        },
        "id": "lE_ZaURYgVtI",
        "outputId": "85a52d27-558b-4d48-ad83-012fc4435cd2"
      },
      "source": [
        "V=R.var()\n",
        "V"
      ],
      "execution_count": 13,
      "outputs": [
        {
          "output_type": "execute_result",
          "data": {
            "text/plain": [
              "1.0017277590084024"
            ]
          },
          "metadata": {
            "tags": []
          },
          "execution_count": 13
        }
      ]
    },
    {
      "cell_type": "code",
      "metadata": {
        "colab": {
          "base_uri": "https://localhost:8080/"
        },
        "id": "ARDNhyrkgXs5",
        "outputId": "33fcdbde-0471-4afc-cdad-f4c62790e4a7"
      },
      "source": [
        "SD=R.std()\n",
        "SD"
      ],
      "execution_count": 14,
      "outputs": [
        {
          "output_type": "execute_result",
          "data": {
            "text/plain": [
              "1.000863506682306"
            ]
          },
          "metadata": {
            "tags": []
          },
          "execution_count": 14
        }
      ]
    },
    {
      "cell_type": "code",
      "metadata": {
        "colab": {
          "base_uri": "https://localhost:8080/"
        },
        "id": "hhLPc-gDge6L",
        "outputId": "f222c936-84cd-42e9-a434-2a540bc16528"
      },
      "source": [
        "np.sqrt(V)"
      ],
      "execution_count": 15,
      "outputs": [
        {
          "output_type": "execute_result",
          "data": {
            "text/plain": [
              "1.000863506682306"
            ]
          },
          "metadata": {
            "tags": []
          },
          "execution_count": 15
        }
      ]
    },
    {
      "cell_type": "code",
      "metadata": {
        "colab": {
          "base_uri": "https://localhost:8080/"
        },
        "id": "tyItaSx1g1_6",
        "outputId": "0a356e46-3a43-43e7-f82b-32922d9ccacf"
      },
      "source": [
        "np.allclose(np.sqrt(V),SD)"
      ],
      "execution_count": 16,
      "outputs": [
        {
          "output_type": "execute_result",
          "data": {
            "text/plain": [
              "True"
            ]
          },
          "metadata": {
            "tags": []
          },
          "execution_count": 16
        }
      ]
    },
    {
      "cell_type": "code",
      "metadata": {
        "id": "iG_08sLMhmp2"
      },
      "source": [
        "R=np.random.randn(10000,3)"
      ],
      "execution_count": 17,
      "outputs": []
    },
    {
      "cell_type": "code",
      "metadata": {
        "colab": {
          "base_uri": "https://localhost:8080/"
        },
        "id": "t8MndxbgiO-o",
        "outputId": "f24168b4-821a-4233-b91c-692a2559b543"
      },
      "source": [
        "R.mean(axis=0)"
      ],
      "execution_count": 18,
      "outputs": [
        {
          "output_type": "execute_result",
          "data": {
            "text/plain": [
              "array([ 0.00200343, -0.0057891 , -0.01086429])"
            ]
          },
          "metadata": {
            "tags": []
          },
          "execution_count": 18
        }
      ]
    },
    {
      "cell_type": "code",
      "metadata": {
        "colab": {
          "base_uri": "https://localhost:8080/"
        },
        "id": "F6MgPCI5iS-m",
        "outputId": "488986c6-b866-4bca-f4e9-712e616a943e"
      },
      "source": [
        "R.mean(axis=1).shape"
      ],
      "execution_count": 19,
      "outputs": [
        {
          "output_type": "execute_result",
          "data": {
            "text/plain": [
              "(10000,)"
            ]
          },
          "metadata": {
            "tags": []
          },
          "execution_count": 19
        }
      ]
    },
    {
      "cell_type": "markdown",
      "metadata": {
        "id": "rONqqZPai16b"
      },
      "source": [
        "**Covariance**\n"
      ]
    },
    {
      "cell_type": "code",
      "metadata": {
        "colab": {
          "base_uri": "https://localhost:8080/"
        },
        "id": "UpxcBUTviW4e",
        "outputId": "e014954c-a1d6-423c-e065-ed4ca3d0bb7a"
      },
      "source": [
        "np.cov(R).shape"
      ],
      "execution_count": 20,
      "outputs": [
        {
          "output_type": "execute_result",
          "data": {
            "text/plain": [
              "(10000, 10000)"
            ]
          },
          "metadata": {
            "tags": []
          },
          "execution_count": 20
        }
      ]
    },
    {
      "cell_type": "code",
      "metadata": {
        "colab": {
          "base_uri": "https://localhost:8080/"
        },
        "id": "f6VnMpL9i8-4",
        "outputId": "75fb6390-78d9-40fa-b09b-479e41605b5b"
      },
      "source": [
        "np.cov(R.T)"
      ],
      "execution_count": 21,
      "outputs": [
        {
          "output_type": "execute_result",
          "data": {
            "text/plain": [
              "array([[0.96948796, 0.00616472, 0.0138631 ],\n",
              "       [0.00616472, 1.00057668, 0.00168434],\n",
              "       [0.0138631 , 0.00168434, 0.99648176]])"
            ]
          },
          "metadata": {
            "tags": []
          },
          "execution_count": 21
        }
      ]
    },
    {
      "cell_type": "code",
      "metadata": {
        "colab": {
          "base_uri": "https://localhost:8080/"
        },
        "id": "x-BP-GeWjprd",
        "outputId": "3cd8d8b3-259f-41f9-bcea-44d51d21c139"
      },
      "source": [
        "np.cov(R,rowvar=False)"
      ],
      "execution_count": 22,
      "outputs": [
        {
          "output_type": "execute_result",
          "data": {
            "text/plain": [
              "array([[0.96948796, 0.00616472, 0.0138631 ],\n",
              "       [0.00616472, 1.00057668, 0.00168434],\n",
              "       [0.0138631 , 0.00168434, 0.99648176]])"
            ]
          },
          "metadata": {
            "tags": []
          },
          "execution_count": 22
        }
      ]
    },
    {
      "cell_type": "markdown",
      "metadata": {
        "id": "VWWpy4hej-OX"
      },
      "source": [
        "**Random Integers**"
      ]
    },
    {
      "cell_type": "code",
      "metadata": {
        "colab": {
          "base_uri": "https://localhost:8080/"
        },
        "id": "UJAqzG1Jj3Br",
        "outputId": "4a11b2c0-f353-4502-e453-9ab58925ed4f"
      },
      "source": [
        "np.random.randint(0,10,size=(3,3))"
      ],
      "execution_count": 23,
      "outputs": [
        {
          "output_type": "execute_result",
          "data": {
            "text/plain": [
              "array([[4, 9, 1],\n",
              "       [5, 4, 3],\n",
              "       [1, 4, 4]])"
            ]
          },
          "metadata": {
            "tags": []
          },
          "execution_count": 23
        }
      ]
    },
    {
      "cell_type": "code",
      "metadata": {
        "colab": {
          "base_uri": "https://localhost:8080/"
        },
        "id": "T5d_J2-DkIq9",
        "outputId": "b3371449-0a12-43ba-ec84-bbe8ae72c74a"
      },
      "source": [
        "np.random.choice(10,size=(3,3))"
      ],
      "execution_count": 24,
      "outputs": [
        {
          "output_type": "execute_result",
          "data": {
            "text/plain": [
              "array([[5, 1, 0],\n",
              "       [0, 1, 6],\n",
              "       [3, 4, 7]])"
            ]
          },
          "metadata": {
            "tags": []
          },
          "execution_count": 24
        }
      ]
    }
  ]
}
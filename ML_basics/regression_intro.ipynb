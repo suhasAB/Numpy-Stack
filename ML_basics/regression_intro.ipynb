{
  "nbformat": 4,
  "nbformat_minor": 0,
  "metadata": {
    "colab": {
      "name": "regression_code.ipynb",
      "provenance": [],
      "authorship_tag": "ABX9TyOEdRvC+3Xr3TXLSlNq+nPz",
      "include_colab_link": true
    },
    "kernelspec": {
      "name": "python3",
      "display_name": "Python 3"
    },
    "language_info": {
      "name": "python"
    }
  },
  "cells": [
    {
      "cell_type": "markdown",
      "metadata": {
        "id": "view-in-github",
        "colab_type": "text"
      },
      "source": [
        "<a href=\"https://colab.research.google.com/github/suhasAB/Numpy-Stack/blob/main/ML_basics/regression_intro.ipynb\" target=\"_parent\"><img src=\"https://colab.research.google.com/assets/colab-badge.svg\" alt=\"Open In Colab\"/></a>"
      ]
    },
    {
      "cell_type": "code",
      "metadata": {
        "id": "LQdjpsIeghyX"
      },
      "source": [
        "import numpy as np\n",
        "import pandas as pd"
      ],
      "execution_count": 1,
      "outputs": []
    },
    {
      "cell_type": "code",
      "metadata": {
        "id": "R26cAz1UgrQG"
      },
      "source": [
        "#https://archive.ics.uci.edu/ml/machine-learning-databases/00291/ download .dat file from this link\n",
        "df = pd.read_csv('airfoil_self_noise.dat', sep='\\t', header=None)"
      ],
      "execution_count": 2,
      "outputs": []
    },
    {
      "cell_type": "code",
      "metadata": {
        "colab": {
          "base_uri": "https://localhost:8080/",
          "height": 204
        },
        "id": "H9-vv6OoiKKF",
        "outputId": "c97eff20-fb15-4c14-8571-5550953dd85d"
      },
      "source": [
        "df.head()"
      ],
      "execution_count": 3,
      "outputs": [
        {
          "output_type": "execute_result",
          "data": {
            "text/html": [
              "<div>\n",
              "<style scoped>\n",
              "    .dataframe tbody tr th:only-of-type {\n",
              "        vertical-align: middle;\n",
              "    }\n",
              "\n",
              "    .dataframe tbody tr th {\n",
              "        vertical-align: top;\n",
              "    }\n",
              "\n",
              "    .dataframe thead th {\n",
              "        text-align: right;\n",
              "    }\n",
              "</style>\n",
              "<table border=\"1\" class=\"dataframe\">\n",
              "  <thead>\n",
              "    <tr style=\"text-align: right;\">\n",
              "      <th></th>\n",
              "      <th>0</th>\n",
              "      <th>1</th>\n",
              "      <th>2</th>\n",
              "      <th>3</th>\n",
              "      <th>4</th>\n",
              "      <th>5</th>\n",
              "    </tr>\n",
              "  </thead>\n",
              "  <tbody>\n",
              "    <tr>\n",
              "      <th>0</th>\n",
              "      <td>800</td>\n",
              "      <td>0.0</td>\n",
              "      <td>0.3048</td>\n",
              "      <td>71.3</td>\n",
              "      <td>0.002663</td>\n",
              "      <td>126.201</td>\n",
              "    </tr>\n",
              "    <tr>\n",
              "      <th>1</th>\n",
              "      <td>1000</td>\n",
              "      <td>0.0</td>\n",
              "      <td>0.3048</td>\n",
              "      <td>71.3</td>\n",
              "      <td>0.002663</td>\n",
              "      <td>125.201</td>\n",
              "    </tr>\n",
              "    <tr>\n",
              "      <th>2</th>\n",
              "      <td>1250</td>\n",
              "      <td>0.0</td>\n",
              "      <td>0.3048</td>\n",
              "      <td>71.3</td>\n",
              "      <td>0.002663</td>\n",
              "      <td>125.951</td>\n",
              "    </tr>\n",
              "    <tr>\n",
              "      <th>3</th>\n",
              "      <td>1600</td>\n",
              "      <td>0.0</td>\n",
              "      <td>0.3048</td>\n",
              "      <td>71.3</td>\n",
              "      <td>0.002663</td>\n",
              "      <td>127.591</td>\n",
              "    </tr>\n",
              "    <tr>\n",
              "      <th>4</th>\n",
              "      <td>2000</td>\n",
              "      <td>0.0</td>\n",
              "      <td>0.3048</td>\n",
              "      <td>71.3</td>\n",
              "      <td>0.002663</td>\n",
              "      <td>127.461</td>\n",
              "    </tr>\n",
              "  </tbody>\n",
              "</table>\n",
              "</div>"
            ],
            "text/plain": [
              "      0    1       2     3         4        5\n",
              "0   800  0.0  0.3048  71.3  0.002663  126.201\n",
              "1  1000  0.0  0.3048  71.3  0.002663  125.201\n",
              "2  1250  0.0  0.3048  71.3  0.002663  125.951\n",
              "3  1600  0.0  0.3048  71.3  0.002663  127.591\n",
              "4  2000  0.0  0.3048  71.3  0.002663  127.461"
            ]
          },
          "metadata": {
            "tags": []
          },
          "execution_count": 3
        }
      ]
    },
    {
      "cell_type": "code",
      "metadata": {
        "colab": {
          "base_uri": "https://localhost:8080/"
        },
        "id": "0dNwamxQiNji",
        "outputId": "4dc715c9-f885-45a4-efe5-9d816774221b"
      },
      "source": [
        "df.info()"
      ],
      "execution_count": 4,
      "outputs": [
        {
          "output_type": "stream",
          "text": [
            "<class 'pandas.core.frame.DataFrame'>\n",
            "RangeIndex: 1503 entries, 0 to 1502\n",
            "Data columns (total 6 columns):\n",
            " #   Column  Non-Null Count  Dtype  \n",
            "---  ------  --------------  -----  \n",
            " 0   0       1503 non-null   int64  \n",
            " 1   1       1503 non-null   float64\n",
            " 2   2       1503 non-null   float64\n",
            " 3   3       1503 non-null   float64\n",
            " 4   4       1503 non-null   float64\n",
            " 5   5       1503 non-null   float64\n",
            "dtypes: float64(5), int64(1)\n",
            "memory usage: 70.6 KB\n"
          ],
          "name": "stdout"
        }
      ]
    },
    {
      "cell_type": "markdown",
      "metadata": {
        "id": "Dm57Fi8tkmYB"
      },
      "source": [
        "**Colums 0-4 represent input data parameters,5th column represents output prediction**"
      ]
    },
    {
      "cell_type": "code",
      "metadata": {
        "id": "7qT9rTQ2kCpi"
      },
      "source": [
        "data=df[[0,1,2,3,4]].values\n",
        "target=df[5].values"
      ],
      "execution_count": 5,
      "outputs": []
    },
    {
      "cell_type": "code",
      "metadata": {
        "id": "z5p-HJPEk3je"
      },
      "source": [
        "from sklearn.model_selection import train_test_split"
      ],
      "execution_count": 6,
      "outputs": []
    },
    {
      "cell_type": "code",
      "metadata": {
        "id": "pur_ZMuklJPx"
      },
      "source": [
        "X_train,X_test,y_train,y_test= train_test_split(data,target,test_size=0.33)"
      ],
      "execution_count": 7,
      "outputs": []
    },
    {
      "cell_type": "code",
      "metadata": {
        "id": "0yxKHggAlUqh"
      },
      "source": [
        "from sklearn.linear_model import LinearRegression"
      ],
      "execution_count": 9,
      "outputs": []
    },
    {
      "cell_type": "markdown",
      "metadata": {
        "id": "UwEQp_HWme6O"
      },
      "source": [
        "# Using Linear Regression Model"
      ]
    },
    {
      "cell_type": "code",
      "metadata": {
        "id": "IZPTjr_illZ9"
      },
      "source": [
        "model=LinearRegression()"
      ],
      "execution_count": 10,
      "outputs": []
    },
    {
      "cell_type": "code",
      "metadata": {
        "colab": {
          "base_uri": "https://localhost:8080/"
        },
        "id": "wxv1ZZ-llq8Z",
        "outputId": "576849f8-1b9e-45c8-9058-39a95983b6f0"
      },
      "source": [
        "model.fit(X_train,y_train)"
      ],
      "execution_count": 11,
      "outputs": [
        {
          "output_type": "execute_result",
          "data": {
            "text/plain": [
              "LinearRegression(copy_X=True, fit_intercept=True, n_jobs=None, normalize=False)"
            ]
          },
          "metadata": {
            "tags": []
          },
          "execution_count": 11
        }
      ]
    },
    {
      "cell_type": "code",
      "metadata": {
        "colab": {
          "base_uri": "https://localhost:8080/"
        },
        "id": "rFzNrkXUlwXp",
        "outputId": "3dbdfab1-fe3d-4dca-dc5e-fb22501b400e"
      },
      "source": [
        "model.score(X_train,y_train) #Score represent R^2 value and not accuracy in case of regression,best model has R^2=1"
      ],
      "execution_count": 12,
      "outputs": [
        {
          "output_type": "execute_result",
          "data": {
            "text/plain": [
              "0.5346051340101361"
            ]
          },
          "metadata": {
            "tags": []
          },
          "execution_count": 12
        }
      ]
    },
    {
      "cell_type": "code",
      "metadata": {
        "colab": {
          "base_uri": "https://localhost:8080/"
        },
        "id": "VALbJMYpmAM_",
        "outputId": "8af28cf1-c5cf-4494-fb61-05b0c3f785a5"
      },
      "source": [
        "model.score(X_test,y_test)"
      ],
      "execution_count": 13,
      "outputs": [
        {
          "output_type": "execute_result",
          "data": {
            "text/plain": [
              "0.46631498566161944"
            ]
          },
          "metadata": {
            "tags": []
          },
          "execution_count": 13
        }
      ]
    },
    {
      "cell_type": "code",
      "metadata": {
        "id": "0ikRX712mD66"
      },
      "source": [
        "predictions= model.predict(X_test)"
      ],
      "execution_count": 14,
      "outputs": []
    },
    {
      "cell_type": "code",
      "metadata": {
        "colab": {
          "base_uri": "https://localhost:8080/"
        },
        "id": "xxZVDIYAmTWS",
        "outputId": "86b4bca2-46e1-4a18-cfcf-0ca9079dd5c6"
      },
      "source": [
        "predictions"
      ],
      "execution_count": 15,
      "outputs": [
        {
          "output_type": "execute_result",
          "data": {
            "text/plain": [
              "array([125.75882942, 122.33368999, 116.99187301, 120.83522362,\n",
              "       123.15693301, 130.97364846, 115.68236844, 124.6452422 ,\n",
              "       124.86215846, 122.25551669, 127.48270012, 129.54972287,\n",
              "       117.98154338, 127.93253503, 132.25655815, 127.90234807,\n",
              "       127.8095974 , 127.20945932, 128.71109085, 124.06594618,\n",
              "       127.08578633, 126.77247063, 121.60970306, 121.11913127,\n",
              "       120.31726557, 124.29664091, 124.42229742, 123.62666514,\n",
              "       124.46295986, 127.93841686, 122.50339364, 124.18347511,\n",
              "       118.61129646, 118.87729196, 126.5127462 , 120.21283914,\n",
              "       117.8473385 , 119.15619332, 130.42187531, 121.56389341,\n",
              "       121.42225045, 118.97332882, 128.47743189, 122.18761504,\n",
              "       119.90118817, 126.66456245, 118.14421875, 120.17566842,\n",
              "       117.40460276, 118.01833946, 120.46306544, 130.86318658,\n",
              "       129.74403816, 124.32207439, 129.56670434, 117.75298305,\n",
              "       126.54410767, 121.4143936 , 122.86139111, 127.68216869,\n",
              "       126.02318138, 128.98161269, 129.07238976, 119.97353861,\n",
              "       126.85742336, 127.06232713, 123.16533038, 130.16866488,\n",
              "       129.21319386, 127.39352   , 124.24186751, 112.63675523,\n",
              "       131.04686133, 125.5602053 , 127.62141889, 121.4589908 ,\n",
              "       123.68993743, 131.47214998, 122.93732344, 127.98803342,\n",
              "       130.82709077, 116.80580886, 123.83436501, 127.30708053,\n",
              "       123.89600902, 126.54678993, 124.29956559, 122.86781079,\n",
              "       123.69482108, 126.59315512, 119.91666461, 121.80454802,\n",
              "       126.3244282 , 127.30927368, 131.58616056, 121.41359991,\n",
              "       122.75141024, 126.59237496, 119.05445809, 126.15629426,\n",
              "       122.99827633, 123.90690236, 127.82648295, 123.77480246,\n",
              "       115.14881708, 118.86700078, 124.50620102, 129.28780641,\n",
              "       125.87287519, 130.35704713, 122.00742455, 132.26186152,\n",
              "       126.74041359, 129.96113498, 121.23790156, 124.64647445,\n",
              "       113.69008622, 122.17267666, 130.13348075, 131.76527721,\n",
              "       120.91909062, 126.22271402, 133.14201554, 120.47746735,\n",
              "       110.24624931, 125.85050409, 135.4578272 , 126.38120606,\n",
              "       122.577836  , 130.57140448, 120.79088391, 127.02112522,\n",
              "       121.63603418, 130.0845987 , 130.90194399, 116.48509634,\n",
              "       123.62342116, 125.46605499, 129.0034981 , 122.23770174,\n",
              "       123.4822203 , 121.95335162, 122.58015628, 113.31087966,\n",
              "       128.90178497, 126.24074459, 123.11125745, 121.93204562,\n",
              "       128.9882882 , 126.63138666, 128.22066389, 120.80318506,\n",
              "       121.73847555, 125.13292029, 117.9981801 , 113.89576781,\n",
              "       121.31200837, 114.31802717, 123.6610529 , 117.07955338,\n",
              "       123.78250914, 131.95596205, 127.98620297, 122.04504539,\n",
              "       130.47346618, 121.86030507, 113.77989871, 123.94007815,\n",
              "       130.90124639, 129.00971504, 128.73182922, 125.38108269,\n",
              "       127.10042646, 128.29925304, 131.4957229 , 118.2890935 ,\n",
              "       123.18865256, 125.4569962 , 119.04855764, 132.40350585,\n",
              "       130.91303127, 104.42788121, 129.23015452, 120.38310334,\n",
              "       128.82148187, 131.74459841, 122.96401841, 125.343756  ,\n",
              "       123.22254722, 124.19796315, 127.96549537, 130.35699023,\n",
              "       115.17111828, 115.38026031, 125.89171743, 132.51682941,\n",
              "       122.85379774, 122.11984934, 126.08524757, 125.99416565,\n",
              "       123.37818728, 120.77478703, 125.23270147, 124.76670085,\n",
              "       121.72770929, 126.32632219, 125.36618805, 124.31969932,\n",
              "       125.5173809 , 126.95453724, 122.4699142 , 127.58903238,\n",
              "       124.14673475, 133.65175906, 123.25262682, 125.78034364,\n",
              "       124.48789838, 118.75982183, 121.26009411, 131.98023022,\n",
              "       124.24303766, 125.66815606, 117.12229058, 132.17394986,\n",
              "       124.15618216, 122.14483681, 128.44321628, 130.16218348,\n",
              "       122.75954629, 126.81006408, 114.52457001, 121.01714354,\n",
              "       130.44950309, 119.6065613 , 128.32859396, 119.01333838,\n",
              "       126.16109896, 121.18281243, 130.74458854, 114.02622152,\n",
              "       120.93223745, 111.82822925, 113.96665897, 122.61518602,\n",
              "       121.10059564, 124.81097211, 120.1804339 , 120.90667449,\n",
              "       126.52462852, 128.77896116, 125.39977334, 121.88323659,\n",
              "       134.91381723, 123.27549559, 127.21347398, 113.56502265,\n",
              "       121.79677229, 129.33208159, 129.29258417, 116.50438302,\n",
              "       125.14910208, 122.92519941, 123.33480821, 128.28410782,\n",
              "       124.92734174, 119.29497651, 122.72782673, 126.94185247,\n",
              "       122.15401814, 128.55470746, 129.73641017, 135.41784682,\n",
              "       128.95994048, 121.93406495, 122.52083058, 130.59807068,\n",
              "       125.13460689, 124.59452282, 133.55157507, 132.15327106,\n",
              "       126.91337513, 125.04163956, 134.2202072 , 129.4931368 ,\n",
              "       124.97241004, 122.57125918, 123.17470027, 126.96871314,\n",
              "       125.03338518, 116.3907409 , 118.13707068, 125.2180635 ,\n",
              "       123.98570002, 129.97589825, 128.90896678, 121.11565121,\n",
              "       131.36722125, 120.97977408, 128.42033203, 129.53816567,\n",
              "       124.86151348, 126.82606189, 132.72982696, 124.24915525,\n",
              "       133.17398739, 125.35586897, 131.59614467, 132.31017407,\n",
              "       126.78564145, 130.13058663, 130.16140393, 115.71601514,\n",
              "       129.04848622, 126.21496906, 130.65345648, 117.93017539,\n",
              "       126.22375563, 130.75445408, 120.6451824 , 118.18683059,\n",
              "       132.2774264 , 124.92632702, 128.98366104, 120.55974799,\n",
              "       127.63935797, 126.77527208, 127.89181897, 131.43283627,\n",
              "       117.19324336, 123.04114242, 122.13767991, 128.72235655,\n",
              "       125.20399121, 131.22634696, 127.15207148, 119.48917932,\n",
              "       121.89038467, 112.44663397, 128.95421664, 129.4161232 ,\n",
              "       126.23156326, 119.16132266, 119.53683413, 122.13056035,\n",
              "       129.54427503, 118.07870075, 121.69826461, 127.40288767,\n",
              "       116.28247063, 130.83313428, 118.89901202, 124.62243781,\n",
              "       130.62879796, 126.08818215, 121.92501734, 125.23964271,\n",
              "       116.41457053, 127.21309231, 131.53090703, 115.97328184,\n",
              "       126.14356914, 133.8222338 , 126.70906272, 129.35044375,\n",
              "       116.08894196, 117.8092183 , 121.65256891, 129.05622524,\n",
              "       129.44946556, 119.19930707, 126.42162313, 132.56196534,\n",
              "       126.44211278, 119.61753193, 135.18626566, 134.08548695,\n",
              "       132.06294531, 127.87543517, 117.27719786, 129.84376234,\n",
              "       126.34000414, 120.45179723, 129.62289219, 128.20847291,\n",
              "       132.77349474, 129.55010383, 133.20002956, 128.68124694,\n",
              "       129.64781929, 129.85296063, 124.91209934, 120.86870305,\n",
              "       119.53081439, 127.0678608 , 118.76707128, 123.25238026,\n",
              "       123.62356059, 123.07528878, 118.39894264, 119.47519013,\n",
              "       122.28175182, 127.18679129, 117.65241946, 134.09647194,\n",
              "       127.35745121, 134.7820095 , 111.03851771, 120.51083702,\n",
              "       124.66569949, 127.64125595, 119.67132308, 128.22706555,\n",
              "       126.45429518, 118.11294798, 126.33472619, 129.23147775,\n",
              "       127.09851032, 125.26790228, 126.06270043, 127.27314002,\n",
              "       127.23068532, 127.67800328, 126.91149629, 128.22290014,\n",
              "       121.14374559, 132.04212373, 128.51648406, 123.69246258,\n",
              "       121.4381714 , 115.76585507, 128.56400816, 127.38542353,\n",
              "       126.6864964 , 124.52403564, 128.36563844, 126.88523565,\n",
              "       123.64399397, 127.81330327, 121.78279842, 123.62074362,\n",
              "       115.51983484, 132.03493663, 123.2771983 , 129.61218117,\n",
              "       127.45856393, 126.094151  , 126.85842174, 119.08955508,\n",
              "       132.29118864, 125.6283174 , 130.31828972, 129.03800918,\n",
              "       131.41541597, 123.06005527, 133.40395139, 123.12263555,\n",
              "       128.52238745, 122.60014371, 125.99271879, 127.40972026,\n",
              "       129.87872621, 129.81145266, 133.86328846, 131.61006756,\n",
              "       123.39508398, 125.14917576, 128.5308342 , 127.71057873,\n",
              "       125.69951754, 119.63297808, 125.16841636, 124.55669646,\n",
              "       131.26950702, 122.87962536, 120.910364  , 133.62410367,\n",
              "       121.48433257, 128.14187143, 122.49624556, 124.69705036,\n",
              "       122.17208673, 128.75171124, 123.50735071, 123.90147515,\n",
              "       123.89076414, 129.85447335, 124.98566331, 132.50085891,\n",
              "       130.81186208, 120.62609358, 128.4118415 , 129.63716864,\n",
              "       129.16537968, 132.90753544, 127.47099978, 123.56453636])"
            ]
          },
          "metadata": {
            "tags": []
          },
          "execution_count": 15
        }
      ]
    },
    {
      "cell_type": "markdown",
      "metadata": {
        "id": "q-V64FCRmYL1"
      },
      "source": [
        "# Using Random Random forest Regressor"
      ]
    },
    {
      "cell_type": "code",
      "metadata": {
        "id": "x2MZagHFmU5T"
      },
      "source": [
        "from sklearn.ensemble import RandomForestRegressor"
      ],
      "execution_count": 16,
      "outputs": []
    },
    {
      "cell_type": "code",
      "metadata": {
        "id": "SjgtukKgmn_D"
      },
      "source": [
        "model2=RandomForestRegressor()"
      ],
      "execution_count": 17,
      "outputs": []
    },
    {
      "cell_type": "code",
      "metadata": {
        "colab": {
          "base_uri": "https://localhost:8080/"
        },
        "id": "zrmO-OaYmsyT",
        "outputId": "cc183dd1-9328-4880-e69b-2ce12465ba28"
      },
      "source": [
        "model2.fit(X_train,y_train)"
      ],
      "execution_count": 18,
      "outputs": [
        {
          "output_type": "execute_result",
          "data": {
            "text/plain": [
              "RandomForestRegressor(bootstrap=True, ccp_alpha=0.0, criterion='mse',\n",
              "                      max_depth=None, max_features='auto', max_leaf_nodes=None,\n",
              "                      max_samples=None, min_impurity_decrease=0.0,\n",
              "                      min_impurity_split=None, min_samples_leaf=1,\n",
              "                      min_samples_split=2, min_weight_fraction_leaf=0.0,\n",
              "                      n_estimators=100, n_jobs=None, oob_score=False,\n",
              "                      random_state=None, verbose=0, warm_start=False)"
            ]
          },
          "metadata": {
            "tags": []
          },
          "execution_count": 18
        }
      ]
    },
    {
      "cell_type": "code",
      "metadata": {
        "colab": {
          "base_uri": "https://localhost:8080/"
        },
        "id": "AK6LEnMpmw5E",
        "outputId": "2b059123-d1e6-40ed-993a-d502ea0d51e2"
      },
      "source": [
        "model2.score(X_train,y_train) #Score represent R^2 value and not accuracy in case of regression,best model has R^2=1"
      ],
      "execution_count": 20,
      "outputs": [
        {
          "output_type": "execute_result",
          "data": {
            "text/plain": [
              "0.9896168143130095"
            ]
          },
          "metadata": {
            "tags": []
          },
          "execution_count": 20
        }
      ]
    },
    {
      "cell_type": "code",
      "metadata": {
        "colab": {
          "base_uri": "https://localhost:8080/"
        },
        "id": "CFr3dt1Nm3L6",
        "outputId": "cfa515d2-6b1c-49d6-97ef-58a50d700dde"
      },
      "source": [
        "model2.score(X_test,y_test)"
      ],
      "execution_count": 21,
      "outputs": [
        {
          "output_type": "execute_result",
          "data": {
            "text/plain": [
              "0.9236637541967908"
            ]
          },
          "metadata": {
            "tags": []
          },
          "execution_count": 21
        }
      ]
    }
  ]
}
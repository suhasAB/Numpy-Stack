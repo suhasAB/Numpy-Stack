{
  "nbformat": 4,
  "nbformat_minor": 0,
  "metadata": {
    "colab": {
      "name": "dot_product_intro.ipynb",
      "provenance": [],
      "authorship_tag": "ABX9TyPFU4W26I/iNSgI/I0R1Bq+",
      "include_colab_link": true
    },
    "kernelspec": {
      "name": "python3",
      "display_name": "Python 3"
    },
    "language_info": {
      "name": "python"
    }
  },
  "cells": [
    {
      "cell_type": "markdown",
      "metadata": {
        "id": "view-in-github",
        "colab_type": "text"
      },
      "source": [
        "<a href=\"https://colab.research.google.com/github/suhasAB/Numpy-Stack/blob/main/dot_product_intro.ipynb\" target=\"_parent\"><img src=\"https://colab.research.google.com/assets/colab-badge.svg\" alt=\"Open In Colab\"/></a>"
      ]
    },
    {
      "cell_type": "markdown",
      "metadata": {
        "id": "h_5fNKeJKHGV"
      },
      "source": [
        "**The Dot Product**"
      ]
    },
    {
      "cell_type": "code",
      "metadata": {
        "id": "xGgVgjyHKq5t"
      },
      "source": [
        "import numpy as np"
      ],
      "execution_count": 2,
      "outputs": []
    },
    {
      "cell_type": "code",
      "metadata": {
        "id": "hbRk6CIyKRke"
      },
      "source": [
        "a=np.array([1,2])\n",
        "b=np.array([3,4])"
      ],
      "execution_count": 3,
      "outputs": []
    },
    {
      "cell_type": "code",
      "metadata": {
        "colab": {
          "base_uri": "https://localhost:8080/"
        },
        "id": "NBpCrsOxKlig",
        "outputId": "9e12883c-ee7c-4d0e-e347-c5990aa47c83"
      },
      "source": [
        "dot=0\n",
        "for e,f in zip(a,b):\n",
        "  dot+= e*f\n",
        "dot"
      ],
      "execution_count": 5,
      "outputs": [
        {
          "output_type": "execute_result",
          "data": {
            "text/plain": [
              "11"
            ]
          },
          "metadata": {
            "tags": []
          },
          "execution_count": 5
        }
      ]
    },
    {
      "cell_type": "code",
      "metadata": {
        "colab": {
          "base_uri": "https://localhost:8080/"
        },
        "id": "YNuM14HcKno3",
        "outputId": "9d9c635e-8fbc-4b4a-e19f-b2a139df7777"
      },
      "source": [
        "dot=0\n",
        "for i in range(len(a)):\n",
        "  dot+= a[i]*b[i]\n",
        "dot"
      ],
      "execution_count": 6,
      "outputs": [
        {
          "output_type": "execute_result",
          "data": {
            "text/plain": [
              "11"
            ]
          },
          "metadata": {
            "tags": []
          },
          "execution_count": 6
        }
      ]
    },
    {
      "cell_type": "code",
      "metadata": {
        "colab": {
          "base_uri": "https://localhost:8080/"
        },
        "id": "dLvX8TwgLZ0J",
        "outputId": "85ef3ea0-7bc9-4639-9e1f-de15a3d571a3"
      },
      "source": [
        "a * b"
      ],
      "execution_count": 7,
      "outputs": [
        {
          "output_type": "execute_result",
          "data": {
            "text/plain": [
              "array([3, 8])"
            ]
          },
          "metadata": {
            "tags": []
          },
          "execution_count": 7
        }
      ]
    },
    {
      "cell_type": "code",
      "metadata": {
        "colab": {
          "base_uri": "https://localhost:8080/"
        },
        "id": "BW3zv7bZLdxp",
        "outputId": "e935dbef-f378-4717-bbc9-d6ec579213ef"
      },
      "source": [
        "np.sum(a*b)"
      ],
      "execution_count": 8,
      "outputs": [
        {
          "output_type": "execute_result",
          "data": {
            "text/plain": [
              "11"
            ]
          },
          "metadata": {
            "tags": []
          },
          "execution_count": 8
        }
      ]
    },
    {
      "cell_type": "code",
      "metadata": {
        "colab": {
          "base_uri": "https://localhost:8080/"
        },
        "id": "nkgvQ8wzLjZU",
        "outputId": "d8f12ca0-8a2a-4cd8-d705-1276a1db2456"
      },
      "source": [
        "(a*b).sum()"
      ],
      "execution_count": 9,
      "outputs": [
        {
          "output_type": "execute_result",
          "data": {
            "text/plain": [
              "11"
            ]
          },
          "metadata": {
            "tags": []
          },
          "execution_count": 9
        }
      ]
    },
    {
      "cell_type": "code",
      "metadata": {
        "colab": {
          "base_uri": "https://localhost:8080/"
        },
        "id": "Lo_dwTTGLoe7",
        "outputId": "8aafebd2-e4f5-4eed-8561-1afb9b4d86b6"
      },
      "source": [
        "np.dot(a,b)"
      ],
      "execution_count": 10,
      "outputs": [
        {
          "output_type": "execute_result",
          "data": {
            "text/plain": [
              "11"
            ]
          },
          "metadata": {
            "tags": []
          },
          "execution_count": 10
        }
      ]
    },
    {
      "cell_type": "code",
      "metadata": {
        "colab": {
          "base_uri": "https://localhost:8080/"
        },
        "id": "ChzoVYXELs8a",
        "outputId": "1cbc17be-f62f-4750-f27a-f7682a84b84e"
      },
      "source": [
        "a.dot(b)"
      ],
      "execution_count": 11,
      "outputs": [
        {
          "output_type": "execute_result",
          "data": {
            "text/plain": [
              "11"
            ]
          },
          "metadata": {
            "tags": []
          },
          "execution_count": 11
        }
      ]
    },
    {
      "cell_type": "code",
      "metadata": {
        "colab": {
          "base_uri": "https://localhost:8080/"
        },
        "id": "4bTz7B_BLv2h",
        "outputId": "5a66f608-dfdf-4851-d5f9-38273233b5d7"
      },
      "source": [
        "a @ b"
      ],
      "execution_count": 12,
      "outputs": [
        {
          "output_type": "execute_result",
          "data": {
            "text/plain": [
              "11"
            ]
          },
          "metadata": {
            "tags": []
          },
          "execution_count": 12
        }
      ]
    },
    {
      "cell_type": "code",
      "metadata": {
        "id": "s4lyVBfuLykS"
      },
      "source": [
        "amag=np.sqrt((a*a).sum())"
      ],
      "execution_count": 13,
      "outputs": []
    },
    {
      "cell_type": "code",
      "metadata": {
        "id": "TzsOXh8AMGkN"
      },
      "source": [
        "bmag=np.sqrt((b*b).sum())"
      ],
      "execution_count": 14,
      "outputs": []
    },
    {
      "cell_type": "code",
      "metadata": {
        "colab": {
          "base_uri": "https://localhost:8080/"
        },
        "id": "4Gu3EtWZMPC9",
        "outputId": "a30e5994-e2d5-4cda-d534-093901055b99"
      },
      "source": [
        "amag,bmag"
      ],
      "execution_count": 15,
      "outputs": [
        {
          "output_type": "execute_result",
          "data": {
            "text/plain": [
              "(2.23606797749979, 5.0)"
            ]
          },
          "metadata": {
            "tags": []
          },
          "execution_count": 15
        }
      ]
    },
    {
      "cell_type": "code",
      "metadata": {
        "colab": {
          "base_uri": "https://localhost:8080/"
        },
        "id": "CwqBjQP0MTuj",
        "outputId": "d9fd0993-48fd-47aa-aa9e-d3e7d130d7c9"
      },
      "source": [
        "np.linalg.norm(a)"
      ],
      "execution_count": 16,
      "outputs": [
        {
          "output_type": "execute_result",
          "data": {
            "text/plain": [
              "2.23606797749979"
            ]
          },
          "metadata": {
            "tags": []
          },
          "execution_count": 16
        }
      ]
    },
    {
      "cell_type": "code",
      "metadata": {
        "colab": {
          "base_uri": "https://localhost:8080/"
        },
        "id": "dwKk9114MZ_U",
        "outputId": "9f1c3e15-fda7-43a1-9629-932b4f96603d"
      },
      "source": [
        "np.linalg.norm(b)"
      ],
      "execution_count": 17,
      "outputs": [
        {
          "output_type": "execute_result",
          "data": {
            "text/plain": [
              "5.0"
            ]
          },
          "metadata": {
            "tags": []
          },
          "execution_count": 17
        }
      ]
    },
    {
      "cell_type": "code",
      "metadata": {
        "id": "blQQ4vR2MdEE"
      },
      "source": [
        "cosangle= a.dot(b) / (np.linalg.norm(a)* np.linalg.norm(b))"
      ],
      "execution_count": 18,
      "outputs": []
    },
    {
      "cell_type": "code",
      "metadata": {
        "colab": {
          "base_uri": "https://localhost:8080/"
        },
        "id": "DDzSeWmsMzMu",
        "outputId": "bf530c6f-fb6a-431b-ada7-f2cae82a4a77"
      },
      "source": [
        "cosangle"
      ],
      "execution_count": 19,
      "outputs": [
        {
          "output_type": "execute_result",
          "data": {
            "text/plain": [
              "0.9838699100999074"
            ]
          },
          "metadata": {
            "tags": []
          },
          "execution_count": 19
        }
      ]
    },
    {
      "cell_type": "code",
      "metadata": {
        "id": "oZstwBXHM4j1"
      },
      "source": [
        "angle= np.arccos(cosangle)"
      ],
      "execution_count": 20,
      "outputs": []
    },
    {
      "cell_type": "code",
      "metadata": {
        "id": "WMZ7n9t2M-sm"
      },
      "source": [
        ""
      ],
      "execution_count": null,
      "outputs": []
    }
  ]
}